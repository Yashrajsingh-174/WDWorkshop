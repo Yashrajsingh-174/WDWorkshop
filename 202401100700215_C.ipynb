{
  "nbformat": 4,
  "nbformat_minor": 0,
  "metadata": {
    "colab": {
      "provenance": [],
      "authorship_tag": "ABX9TyMC3VhOwpu0I9MGHUkc13/4",
      "include_colab_link": true
    },
    "kernelspec": {
      "name": "python3",
      "display_name": "Python 3"
    },
    "language_info": {
      "name": "python"
    }
  },
  "cells": [
    {
      "cell_type": "markdown",
      "metadata": {
        "id": "view-in-github",
        "colab_type": "text"
      },
      "source": [
        "<a href=\"https://colab.research.google.com/github/Yashrajsingh-174/WDWorkshop/blob/main/202401100700215_C.ipynb\" target=\"_parent\"><img src=\"https://colab.research.google.com/assets/colab-badge.svg\" alt=\"Open In Colab\"/></a>"
      ]
    },
    {
      "cell_type": "markdown",
      "source": [
        "GROCERY STORE CALCULATOR CASE STUDY 1"
      ],
      "metadata": {
        "id": "EgCdrNxOG_8k"
      }
    },
    {
      "cell_type": "code",
      "execution_count": 18,
      "metadata": {
        "colab": {
          "base_uri": "https://localhost:8080/",
          "height": 0
        },
        "id": "ctSVIF_5G0pr",
        "outputId": "5f8d304c-0089-442e-d985-6ae07faa6ece"
      },
      "outputs": [
        {
          "output_type": "stream",
          "name": "stdout",
          "text": [
            "\t\t\t\t\t_____AAPKA SWAGAT HAI!!!!______\n",
            "No.of items:4\n",
            "\t\t\titem code \t\tprice\t\t\tQuantity\t\ttotal cost\n",
            "soap\n",
            "20\n",
            "5\n",
            "\t\t\tsoap\t\t\t20.0\t\t\t5\t\t\t100.0\n",
            "milk\n",
            "31\n",
            "2\n",
            "\t\t\tmilk\t\t\t31.0\t\t\t2\t\t\t62.0\n",
            "CoDr\n",
            "70\n",
            "1\n",
            "\t\t\tCoDr\t\t\t70.0\t\t\t1\t\t\t70.0\n",
            "chip\n",
            "25\n",
            "2\n",
            "\t\t\tchip\t\t\t25.0\t\t\t2\t\t\t50.0\n",
            "\n",
            "\n",
            "\n",
            "\n",
            "\t\t\ttotal price \t\t\t\t\t\t\t\t 282.0\n",
            "\t\t\tCGST        \t\t\t\t\t\t\t\t 33.84\n",
            "\t\t\tSGST        \t\t\t\t\t\t\t\t 33.84\n",
            "\t\t\tDiscount    \t\t\t\t\t\t\t\t 17.48\n",
            "\t\t\tpayable amount \t\t\t\t\t\t\t\t 332.20\n"
          ]
        }
      ],
      "source": [
        "print(\"\\t\\t\\t\\t\\t_____AAPKA SWAGAT HAI!!!!______\")\n",
        "x=int(input(\"No.of items:\"))\n",
        "sum=0\n",
        "y=1\n",
        "print(\"\\t\\t\\titem code \\t\\tprice\\t\\t\\tQuantity\\t\\ttotal cost\")\n",
        "while(y<=x):\n",
        "  a=input( )\n",
        "  c=float(input())\n",
        "  b=int(input())\n",
        "  print(\"\",a,c,b,c*b,sep=\"\\t\\t\\t\")\n",
        "  sum=sum+b*c\n",
        "  y=y+1\n",
        "print(\"\\n\")\n",
        "print(\"\\n\")\n",
        "print(\"\\t\\t\\ttotal price \\t\\t\\t\\t\\t\\t\\t\\t\",sum)\n",
        "cgst=(12/100)*sum\n",
        "print(\"\\t\\t\\tCGST        \\t\\t\\t\\t\\t\\t\\t\\t\",f\"{cgst:.2f}\")\n",
        "sgst=(12/100)*sum\n",
        "print(\"\\t\\t\\tSGST        \\t\\t\\t\\t\\t\\t\\t\\t\",f\"{sgst:.2f}\")\n",
        "ssum=sum+cgst+sgst\n",
        "dis=(5/100)*ssum\n",
        "sssum=ssum-dis\n",
        "print(\"\\t\\t\\tDiscount    \\t\\t\\t\\t\\t\\t\\t\\t\",f\"{dis:.2f}\")\n",
        "print(\"\\t\\t\\tpayable amount \\t\\t\\t\\t\\t\\t\\t\\t\",f\"{sssum:.2f}\")\n"
      ]
    }
  ]
}