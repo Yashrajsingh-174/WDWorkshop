{
  "nbformat": 4,
  "nbformat_minor": 0,
  "metadata": {
    "colab": {
      "provenance": [],
      "authorship_tag": "ABX9TyPZR20EPX/5I3SLpEqe8D1L",
      "include_colab_link": true
    },
    "kernelspec": {
      "name": "python3",
      "display_name": "Python 3"
    },
    "language_info": {
      "name": "python"
    }
  },
  "cells": [
    {
      "cell_type": "markdown",
      "metadata": {
        "id": "view-in-github",
        "colab_type": "text"
      },
      "source": [
        "<a href=\"https://colab.research.google.com/github/Yashrajsingh-174/WDWorkshop/blob/main/202401100700215_C.ipynb\" target=\"_parent\"><img src=\"https://colab.research.google.com/assets/colab-badge.svg\" alt=\"Open In Colab\"/></a>"
      ]
    },
    {
      "cell_type": "markdown",
      "source": [
        "                                          Case Study 3 __Temperature Sensor"
      ],
      "metadata": {
        "id": "nBGI7EQzzRfb"
      }
    },
    {
      "cell_type": "code",
      "execution_count": 4,
      "metadata": {
        "colab": {
          "base_uri": "https://localhost:8080/",
          "height": 0
        },
        "id": "b22zYfOEyLO8",
        "outputId": "512656bb-b26b-46a3-8937-9309abcc3cfa"
      },
      "outputs": [
        {
          "output_type": "stream",
          "name": "stdout",
          "text": [
            "ALERT: Temperature 24.83 is below limit 25.00!\n",
            "ALERT: Temperature 23.29 is below limit 25.00!\n",
            "ALERT: Temperature 36.27 is above limit 35.00!\n",
            "ALERT: Temperature 21.30 is below limit 25.00!\n",
            "ALERT: Temperature 37.57 is above limit 35.00!\n"
          ]
        }
      ],
      "source": [
        "import random\n",
        "\n",
        "def monitor_temperature(temp, low, high, alert):\n",
        "    if temp < low or temp > high:\n",
        "        alert(temp, low, high)\n",
        "\n",
        "def alert(temp, low, high):\n",
        "    print(f\"ALERT: Temperature {temp:.2f} is {'below' if temp < low else 'above'} limit {low if temp < low else high:.2f}!\")\n",
        "\n",
        "def random_temp(low=20, high=40):\n",
        "    return random.uniform(low, high)\n",
        "\n",
        "low, high = 25.0, 35.0\n",
        "for _ in range(10):\n",
        "    monitor_temperature(random_temp(), low, high, alert)"
      ]
    }
  ]
}