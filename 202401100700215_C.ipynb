{
  "nbformat": 4,
  "nbformat_minor": 0,
  "metadata": {
    "colab": {
      "provenance": [],
      "authorship_tag": "ABX9TyNL8C2zcKgu2pyTrazWlAy/",
      "include_colab_link": true
    },
    "kernelspec": {
      "name": "python3",
      "display_name": "Python 3"
    },
    "language_info": {
      "name": "python"
    }
  },
  "cells": [
    {
      "cell_type": "markdown",
      "metadata": {
        "id": "view-in-github",
        "colab_type": "text"
      },
      "source": [
        "<a href=\"https://colab.research.google.com/github/Yashrajsingh-174/WDWorkshop/blob/main/202401100700215_C.ipynb\" target=\"_parent\"><img src=\"https://colab.research.google.com/assets/colab-badge.svg\" alt=\"Open In Colab\"/></a>"
      ]
    },
    {
      "cell_type": "markdown",
      "source": [
        "                                  case study 4 to do list maker"
      ],
      "metadata": {
        "id": "33Bd2Xdq4ta1"
      }
    },
    {
      "cell_type": "code",
      "execution_count": 2,
      "metadata": {
        "colab": {
          "base_uri": "https://localhost:8080/",
          "height": 0
        },
        "id": "x-omUukG4cwb",
        "outputId": "2c5f751f-b0e1-415f-b386-d0e2278734e2"
      },
      "outputs": [
        {
          "output_type": "stream",
          "name": "stdout",
          "text": [
            "\n",
            "To-Do List:\n",
            "1. Add, 2. View, 3. Delete, 4. Done, 5. Exit\n",
            "Choice: 1\n",
            "Task: maths\n",
            "Added: 'maths' (ID: 1)\n",
            "\n",
            "To-Do List:\n",
            "1. Add, 2. View, 3. Delete, 4. Done, 5. Exit\n",
            "Choice: 1\n",
            "Task: python\n",
            "Added: 'python' (ID: 2)\n",
            "\n",
            "To-Do List:\n",
            "1. Add, 2. View, 3. Delete, 4. Done, 5. Exit\n",
            "Choice: 2\n",
            "1. [ ] maths\n",
            "2. [ ] python\n",
            "\n",
            "To-Do List:\n",
            "1. Add, 2. View, 3. Delete, 4. Done, 5. Exit\n",
            "Choice: 4\n",
            "ID: 2\n",
            "Done: python\n",
            "\n",
            "To-Do List:\n",
            "1. Add, 2. View, 3. Delete, 4. Done, 5. Exit\n",
            "Choice: 2\n",
            "1. [ ] maths\n",
            "2. [X] python\n",
            "\n",
            "To-Do List:\n",
            "1. Add, 2. View, 3. Delete, 4. Done, 5. Exit\n",
            "Choice: 5\n",
            "Bye!\n"
          ]
        }
      ],
      "source": [
        "def to_do_list_builder():\n",
        "    \"\"\"A simple to-do list builder.\"\"\"\n",
        "\n",
        "    tasks = {}  # {id: {\"task\": \"desc\", \"done\": False}}\n",
        "    next_id = 1\n",
        "\n",
        "    while True:\n",
        "        print(\"\\nTo-Do List:\")\n",
        "        print(\"1. Add, 2. View, 3. Delete, 4. Done, 5. Exit\")\n",
        "\n",
        "        choice = input(\"Choice: \")\n",
        "\n",
        "        if choice == \"1\":\n",
        "            desc = input(\"Task: \")\n",
        "            tasks[next_id] = {\"task\": desc, \"done\": False}\n",
        "            print(f\"Added: '{desc}' (ID: {next_id})\")\n",
        "            next_id += 1\n",
        "\n",
        "        elif choice == \"2\":\n",
        "            if not tasks:\n",
        "                print(\"Empty.\")\n",
        "            else:\n",
        "                for id, data in tasks.items():\n",
        "                    print(f\"{id}. {'[X]' if data['done'] else '[ ]'} {data['task']}\")\n",
        "\n",
        "        elif choice == \"3\":\n",
        "            if not tasks:\n",
        "                print(\"Empty.\")\n",
        "            else:\n",
        "                try:\n",
        "                    id_to_del = int(input(\"ID: \"))\n",
        "                    if id_to_del in tasks:\n",
        "                        print(f\"Deleted: '{tasks.pop(id_to_del)['task']}'\")\n",
        "                    else:\n",
        "                        print(\"Not found.\")\n",
        "                except ValueError:\n",
        "                    print(\"Invalid ID.\")\n",
        "\n",
        "        elif choice == \"4\":\n",
        "            if not tasks:\n",
        "                print(\"Empty.\")\n",
        "            else:\n",
        "                try:\n",
        "                    id_to_mark = int(input(\"ID: \"))\n",
        "                    if id_to_mark in tasks:\n",
        "                        tasks[id_to_mark][\"done\"] = True\n",
        "                        print(f\"Done: {tasks[id_to_mark]['task']}\")\n",
        "                    else:\n",
        "                        print(\"Not found.\")\n",
        "                except ValueError:\n",
        "                    print(\"Invalid ID.\")\n",
        "\n",
        "        elif choice == \"5\":\n",
        "            print(\"Bye!\")\n",
        "            break\n",
        "\n",
        "        else:\n",
        "            print(\"Invalid.\")\n",
        "if __name__ == \"__main__\":\n",
        "    to_do_list_builder()"
      ]
    }
  ]
}